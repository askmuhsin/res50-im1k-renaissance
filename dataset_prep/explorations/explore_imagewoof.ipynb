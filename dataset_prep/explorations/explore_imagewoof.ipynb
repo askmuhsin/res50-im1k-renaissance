{
 "cells": [
  {
   "cell_type": "code",
   "execution_count": null,
   "metadata": {},
   "outputs": [],
   "source": [
    "from datasets import load_dataset\n",
    "import matplotlib.pyplot as plt"
   ]
  },
  {
   "cell_type": "code",
   "execution_count": null,
   "metadata": {},
   "outputs": [],
   "source": [
    "dataset = load_dataset(\n",
    "    \"frgfm/imagewoof\",\n",
    "    cache_dir=\"/Users/muhsinmohammed/Projects/ML_DATASETS\"\n",
    ")"
   ]
  },
  {
   "cell_type": "code",
   "execution_count": null,
   "metadata": {},
   "outputs": [],
   "source": [
    "train = dataset['train']\n",
    "val = dataset['validation']\n",
    "\n",
    "print(f\"Train samples: {len(train)}\")\n",
    "print(f\"Val samples: {len(val)}\")\n",
    "print(f\"\\nClasses: {train.features['label'].names}\")\n",
    "print(f\"Num classes: {len(train.features['label'].names)}\")"
   ]
  },
  {
   "cell_type": "code",
   "execution_count": null,
   "metadata": {},
   "outputs": [],
   "source": [
    "class_names = train.features['label'].names\n",
    "\n",
    "fig, axes = plt.subplots(len(class_names), 3, figsize=(8, 20))\n",
    "\n",
    "for class_idx, class_name in enumerate(class_names):\n",
    "    class_samples = [s for s in train if s['label'] == class_idx][:3]\n",
    "    \n",
    "    for sample_idx, sample in enumerate(class_samples):\n",
    "        axes[class_idx, sample_idx].imshow(sample['image'])\n",
    "        axes[class_idx, sample_idx].axis('off')\n",
    "        if sample_idx == 0:\n",
    "            axes[class_idx, sample_idx].set_title(class_name, fontsize=10)\n",
    "\n",
    "plt.tight_layout()\n",
    "plt.show()"
   ]
  }
 ],
 "metadata": {
  "kernelspec": {
   "display_name": "Python 3",
   "language": "python",
   "name": "python3"
  },
  "language_info": {
   "name": "python",
   "version": "3.12.0"
  }
 },
 "nbformat": 4,
 "nbformat_minor": 4
}
